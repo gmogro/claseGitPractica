{
 "cells": [
  {
   "cell_type": "code",
   "execution_count": 1,
   "metadata": {},
   "outputs": [
    {
     "name": "stdout",
     "output_type": "stream",
     "text": [
      "Hola soy git hub\n"
     ]
    }
   ],
   "source": [
    "print(\"Hola soy git hub\")\n",
    "print(\"Uso de desktop\")\n",
    "print(\"Creee mi primer branch\")"
   ]
  }
 ],
 "metadata": {
  "interpreter": {
   "hash": "3bad5ddc3fb73cf984f859ce935ca2d6de2b39cbb733d98e015216840e0f3c5c"
  },
  "kernelspec": {
   "display_name": "Python 3.9.7 64-bit",
   "language": "python",
   "name": "python3"
  },
  "language_info": {
   "codemirror_mode": {
    "name": "ipython",
    "version": 3
   },
   "file_extension": ".py",
   "mimetype": "text/x-python",
   "name": "python",
   "nbconvert_exporter": "python",
   "pygments_lexer": "ipython3",
   "version": "3.9.7"
  },
  "orig_nbformat": 4
 },
 "nbformat": 4,
 "nbformat_minor": 2
}
